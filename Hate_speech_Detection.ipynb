{
 "cells": [
  {
   "cell_type": "code",
   "execution_count": 2,
   "metadata": {},
   "outputs": [],
   "source": [
    "import matplotlib.pyplot as plt\n",
    "import pandas as pd\n",
    "import seaborn as sns\n",
    "from matplotlib import style\n",
    "style.use('ggplot')\n",
    "import re\n",
    "from nltk.tokenize import word_tokenize\n",
    "from nltk.stem import WordNetLemmatizer\n",
    "from nltk.corpus import stopwords\n",
    "stop_words = set(stopwords.words(\"english\"))\n",
    "from wordcloud import WordCloud\n",
    "from sklearn.feature_extraction.text import TfidfTransformer,TfidfVectorizer\n",
    "from sklearn.model_selection import train_test_split\n",
    "from sklearn.linear_model import LogisticRegression\n",
    "from sklearn.metrics import accuracy_score, classification_report,confusion_matrix, ConfusionMatrixDisplay\n"
   ]
  },
  {
   "cell_type": "code",
   "execution_count": 3,
   "metadata": {},
   "outputs": [],
   "source": [
    "tweet_df = pd.read_csv(\"/home/dheerus/Desktop/Python/Hate Speech Detection Project/FinalBalancedDataset.csv\")"
   ]
  },
  {
   "cell_type": "code",
   "execution_count": 6,
   "metadata": {},
   "outputs": [
    {
     "data": {
      "text/html": [
       "<div>\n",
       "<style scoped>\n",
       "    .dataframe tbody tr th:only-of-type {\n",
       "        vertical-align: middle;\n",
       "    }\n",
       "\n",
       "    .dataframe tbody tr th {\n",
       "        vertical-align: top;\n",
       "    }\n",
       "\n",
       "    .dataframe thead th {\n",
       "        text-align: right;\n",
       "    }\n",
       "</style>\n",
       "<table border=\"1\" class=\"dataframe\">\n",
       "  <thead>\n",
       "    <tr style=\"text-align: right;\">\n",
       "      <th></th>\n",
       "      <th>Unnamed: 0</th>\n",
       "      <th>Toxicity</th>\n",
       "    </tr>\n",
       "  </thead>\n",
       "  <tbody>\n",
       "    <tr>\n",
       "      <th>count</th>\n",
       "      <td>56745.00000</td>\n",
       "      <td>56745.000000</td>\n",
       "    </tr>\n",
       "    <tr>\n",
       "      <th>mean</th>\n",
       "      <td>28372.00000</td>\n",
       "      <td>0.425641</td>\n",
       "    </tr>\n",
       "    <tr>\n",
       "      <th>std</th>\n",
       "      <td>16381.01485</td>\n",
       "      <td>0.494444</td>\n",
       "    </tr>\n",
       "    <tr>\n",
       "      <th>min</th>\n",
       "      <td>0.00000</td>\n",
       "      <td>0.000000</td>\n",
       "    </tr>\n",
       "    <tr>\n",
       "      <th>25%</th>\n",
       "      <td>14186.00000</td>\n",
       "      <td>0.000000</td>\n",
       "    </tr>\n",
       "    <tr>\n",
       "      <th>50%</th>\n",
       "      <td>28372.00000</td>\n",
       "      <td>0.000000</td>\n",
       "    </tr>\n",
       "    <tr>\n",
       "      <th>75%</th>\n",
       "      <td>42558.00000</td>\n",
       "      <td>1.000000</td>\n",
       "    </tr>\n",
       "    <tr>\n",
       "      <th>max</th>\n",
       "      <td>56744.00000</td>\n",
       "      <td>1.000000</td>\n",
       "    </tr>\n",
       "  </tbody>\n",
       "</table>\n",
       "</div>"
      ],
      "text/plain": [
       "        Unnamed: 0      Toxicity\n",
       "count  56745.00000  56745.000000\n",
       "mean   28372.00000      0.425641\n",
       "std    16381.01485      0.494444\n",
       "min        0.00000      0.000000\n",
       "25%    14186.00000      0.000000\n",
       "50%    28372.00000      0.000000\n",
       "75%    42558.00000      1.000000\n",
       "max    56744.00000      1.000000"
      ]
     },
     "execution_count": 6,
     "metadata": {},
     "output_type": "execute_result"
    }
   ],
   "source": [
    "tweet_df.describe()"
   ]
  },
  {
   "cell_type": "code",
   "execution_count": 7,
   "metadata": {},
   "outputs": [
    {
     "name": "stdout",
     "output_type": "stream",
     "text": [
      "<class 'pandas.core.frame.DataFrame'>\n",
      "RangeIndex: 56745 entries, 0 to 56744\n",
      "Data columns (total 3 columns):\n",
      " #   Column      Non-Null Count  Dtype \n",
      "---  ------      --------------  ----- \n",
      " 0   Unnamed: 0  56745 non-null  int64 \n",
      " 1   Toxicity    56745 non-null  int64 \n",
      " 2   tweet       56745 non-null  object\n",
      "dtypes: int64(2), object(1)\n",
      "memory usage: 1.3+ MB\n"
     ]
    }
   ],
   "source": [
    "tweet_df.info()"
   ]
  },
  {
   "cell_type": "markdown",
   "metadata": {},
   "source": [
    "# Visualizing the Data to preprocess"
   ]
  },
  {
   "cell_type": "code",
   "execution_count": 52,
   "metadata": {},
   "outputs": [
    {
     "name": "stdout",
     "output_type": "stream",
     "text": [
      " @user when a father is dysfunctional and is so selfish he drags his kids into his dysfunction.   #run \n",
      "\n",
      "@user @user thanks for #lyft credit i can't use cause they don't offer wheelchair vans in pdx.    #disapointed #getthanked \n",
      "\n",
      "  bihday your majesty \n",
      "\n",
      "#model   i love u take with u all the time in urð±!!! ððððð¦ð¦ð¦   \n",
      "\n",
      " factsguide: society now    #motivation \n",
      "\n"
     ]
    }
   ],
   "source": [
    "print(tweet_df['tweet'].iloc[0],'\\n')\n",
    "print(tweet_df['tweet'].iloc[1],'\\n')\n",
    "print(tweet_df['tweet'].iloc[2],'\\n')\n",
    "print(tweet_df['tweet'].iloc[3],'\\n')\n",
    "print(tweet_df['tweet'].iloc[4],'\\n')"
   ]
  },
  {
   "cell_type": "markdown",
   "metadata": {},
   "source": [
    "## Data processing\n",
    "\n",
    "##### -Convertin the data into lower case \n",
    "##### -Removing special characters using regex\n",
    "##### -Performing Tokenization\n",
    "##### -Performing Lemmatization"
   ]
  },
  {
   "cell_type": "code",
   "execution_count": 53,
   "metadata": {},
   "outputs": [],
   "source": [
    "def data_preprocessing(tweet):\n",
    "    tweet = tweet.lower()\n",
    "    tweet = re.sub(r\"https\\S+|www\\S+http\\S+\",\"\", tweet,flags = re.MULTILINE)\n",
    "    tweet = re.sub(r\"@w+|\\#\",\"\",tweet)\n",
    "    tweet = re.sub(r\"[^\\w\\s]\",\"\",tweet)\n",
    "    tweet = re.sub(r\"\",\"\",tweet)\n",
    "    tweet = re.sub(r\"ð\",\"\",tweet)\n",
    "    tweet = re.sub(r\"  \",\"\",tweet)\n",
    "\n",
    "    tweet_tokens = word_tokenize(tweet)\n",
    "    filterted_tokens =[w for w in tweet_tokens if not w in stop_words]\n",
    "    return tweet"
   ]
  },
  {
   "cell_type": "code",
   "execution_count": 54,
   "metadata": {},
   "outputs": [],
   "source": [
    "tweet_df.tweet = tweet_df['tweet'].apply(data_preprocessing)"
   ]
  },
  {
   "cell_type": "markdown",
   "metadata": {},
   "source": [
    "##### Removing Duplicates from data"
   ]
  },
  {
   "cell_type": "code",
   "execution_count": 55,
   "metadata": {},
   "outputs": [],
   "source": [
    "tweet_df = tweet_df.drop_duplicates('tweet')"
   ]
  },
  {
   "cell_type": "code",
   "execution_count": 56,
   "metadata": {},
   "outputs": [],
   "source": [
    "lemmatizer = WordNetLemmatizer()\n",
    "\n",
    "def lemmatizing(data):\n",
    "    tweet = [lemmatizer.lemmatize(word) for word in data]\n",
    "    return data"
   ]
  },
  {
   "cell_type": "code",
   "execution_count": 57,
   "metadata": {},
   "outputs": [],
   "source": [
    "tweet_df['tweet'] = tweet_df['tweet'].apply(lambda x: lemmatizing(x))\n"
   ]
  },
  {
   "cell_type": "markdown",
   "metadata": {},
   "source": [
    "##### Preprocessed data"
   ]
  },
  {
   "cell_type": "code",
   "execution_count": 58,
   "metadata": {},
   "outputs": [
    {
     "name": "stdout",
     "output_type": "stream",
     "text": [
      " user when a father is dysfunctional and is so selfish he drags his kids into his dysfunction run \n",
      "\n",
      "user user thanks for lyft credit i cant use cause they dont offer wheelchair vans in pdxdisapointed getthanked \n",
      "\n",
      "bihday your majesty \n",
      "\n",
      "model i love u take with u all the time in ur  \n",
      "\n",
      " factsguide society nowmotivation \n",
      "\n"
     ]
    }
   ],
   "source": [
    "print(tweet_df['tweet'].iloc[0],'\\n')\n",
    "print(tweet_df['tweet'].iloc[1],'\\n')\n",
    "print(tweet_df['tweet'].iloc[2],'\\n')\n",
    "print(tweet_df['tweet'].iloc[3],'\\n')\n",
    "print(tweet_df['tweet'].iloc[4],'\\n')"
   ]
  },
  {
   "cell_type": "code",
   "execution_count": 59,
   "metadata": {},
   "outputs": [
    {
     "data": {
      "text/plain": [
       "Unnamed: 0    28828.064174\n",
       "Toxicity          0.440493\n",
       "dtype: float64"
      ]
     },
     "execution_count": 59,
     "metadata": {},
     "output_type": "execute_result"
    }
   ],
   "source": [
    "tweet_df.mean()"
   ]
  },
  {
   "cell_type": "code",
   "execution_count": 60,
   "metadata": {},
   "outputs": [
    {
     "name": "stdout",
     "output_type": "stream",
     "text": [
      "         Unnamed: 0      Toxicity\n",
      "count  54212.000000  54212.000000\n",
      "mean   28828.064174      0.440493\n",
      "std    16494.221829      0.496451\n",
      "min        0.000000      0.000000\n",
      "25%    14450.750000      0.000000\n",
      "50%    29349.500000      0.000000\n",
      "75%    43164.250000      1.000000\n",
      "max    56744.000000      1.000000\n",
      "<class 'pandas.core.frame.DataFrame'>\n",
      "Int64Index: 54212 entries, 0 to 56744\n",
      "Data columns (total 3 columns):\n",
      " #   Column      Non-Null Count  Dtype \n",
      "---  ------      --------------  ----- \n",
      " 0   Unnamed: 0  54212 non-null  int64 \n",
      " 1   Toxicity    54212 non-null  int64 \n",
      " 2   tweet       54212 non-null  object\n",
      "dtypes: int64(2), object(1)\n",
      "memory usage: 1.7+ MB\n"
     ]
    }
   ],
   "source": [
    "print(tweet_df.describe())\n",
    "tweet_df.info()"
   ]
  },
  {
   "cell_type": "code",
   "execution_count": 61,
   "metadata": {},
   "outputs": [
    {
     "data": {
      "text/plain": [
       "0    30332\n",
       "1    23880\n",
       "Name: Toxicity, dtype: int64"
      ]
     },
     "execution_count": 61,
     "metadata": {},
     "output_type": "execute_result"
    }
   ],
   "source": [
    "tweet_df['Toxicity'].value_counts()"
   ]
  },
  {
   "cell_type": "code",
   "execution_count": 62,
   "metadata": {},
   "outputs": [
    {
     "data": {
      "text/plain": [
       "<AxesSubplot:xlabel='Toxicity', ylabel='count'>"
      ]
     },
     "execution_count": 62,
     "metadata": {},
     "output_type": "execute_result"
    },
    {
     "data": {
      "image/png": "[encoded data removed]",
      "text/plain": [
       "<Figure size 400x400 with 1 Axes>"
      ]
     },
     "metadata": {},
     "output_type": "display_data"
    }
   ],
   "source": [
    "fig = plt.figure(figsize=(5,5))\n",
    "sns.countplot(x='Toxicity', data = tweet_df)"
   ]
  },
  {
   "cell_type": "code",
   "execution_count": 63,
   "metadata": {},
   "outputs": [
    {
     "data": {
      "text/plain": [
       "Text(0.5, 1.0, 'Dist')"
      ]
     },
     "execution_count": 63,
     "metadata": {},
     "output_type": "execute_result"
    },
    {
     "data": {
      "image/png": "[encoded data removed]",
      "text/plain": [
       "<Figure size 560x560 with 1 Axes>"
      ]
     },
     "metadata": {},
     "output_type": "display_data"
    }
   ],
   "source": [
    "fig = plt.figure(figsize =(7,7))\n",
    "colors = (\"red\",'gold')\n",
    "wp = {'linewidth':2,'edgecolor':\"black\"}\n",
    "tags = tweet_df['Toxicity'].value_counts()\n",
    "explode = (0.1,0.1)\n",
    "tags.plot(kind = 'pie', autopct = \"%1.1f%%\", shadow = True, colors = colors, startangle=90,\n",
    "wedgeprops = wp, explode = explode,label ='')\n",
    "plt.title(\"Dist\")"
   ]
  },
  {
   "cell_type": "markdown",
   "metadata": {},
   "source": [
    "##### Vectorizing the Data\n",
    "##### 2gram "
   ]
  },
  {
   "cell_type": "code",
   "execution_count": 64,
   "metadata": {},
   "outputs": [],
   "source": [
    "vect = TfidfVectorizer(ngram_range =(1,2)).fit(tweet_df['tweet'])"
   ]
  },
  {
   "cell_type": "code",
   "execution_count": 65,
   "metadata": {},
   "outputs": [
    {
     "name": "stdout",
     "output_type": "stream",
     "text": [
      "No.of feature: 417487\n",
      "First 20 features ['0000001', '0000001 polluting', '00027', '00027 photooftheday', '001', '0035', '007', '007 httptcoon5t60rmfb', '007beardownjedi', '007beardownjedi the', '007hertzrumble', '007hertzrumble httptcoqyn1bc7mxs', '007m_h', '007m_h lilduval', '00_jackie', '00_jackie darknight420', '00_jackie no', '00h30', '00sexilexi00', '00sexilexi00 freeze']\n"
     ]
    }
   ],
   "source": [
    "feature_names  = vect.get_feature_names()\n",
    "print(\"No.of feature: {}\".format(len(feature_names)))\n",
    "print(\"First 20 features {}\".format(feature_names[:20]))\n"
   ]
  },
  {
   "cell_type": "markdown",
   "metadata": {},
   "source": [
    "##### 3-Gram"
   ]
  },
  {
   "cell_type": "code",
   "execution_count": 66,
   "metadata": {},
   "outputs": [
    {
     "name": "stdout",
     "output_type": "stream",
     "text": [
      "No.of feature: 897777\n",
      "First 20 features ['0000001', '0000001 polluting', '0000001 polluting niger', '00027', '00027 photooftheday', '00027 photooftheday music', '001', '0035', '007', '007 httptcoon5t60rmfb', '007beardownjedi', '007beardownjedi the', '007beardownjedi the afl', '007hertzrumble', '007hertzrumble httptcoqyn1bc7mxs', '007hertzrumble httptcoqyn1bc7mxs via', '007m_h', '007m_h lilduval', '007m_h lilduval damn', '00_jackie']\n"
     ]
    }
   ],
   "source": [
    "vect = TfidfVectorizer(ngram_range =(1,3)).fit(tweet_df['tweet'])\n",
    "\n",
    "feature_names  = vect.get_feature_names()\n",
    "print(\"No.of feature: {}\".format(len(feature_names)))\n",
    "print(\"First 20 features {}\".format(feature_names[:20]))"
   ]
  },
  {
   "cell_type": "markdown",
   "metadata": {},
   "source": [
    "### Data Splitting and Transformation"
   ]
  },
  {
   "cell_type": "code",
   "execution_count": 67,
   "metadata": {},
   "outputs": [],
   "source": [
    "X = tweet_df['tweet']\n",
    "Y = tweet_df['Toxicity']\n",
    "X = vect.transform(X)"
   ]
  },
  {
   "cell_type": "code",
   "execution_count": 68,
   "metadata": {},
   "outputs": [],
   "source": [
    "\n",
    "x_train,x_test, y_train, y_test = train_test_split(X,Y, test_size=0.2, random_state=42)"
   ]
  },
  {
   "cell_type": "code",
   "execution_count": 69,
   "metadata": {},
   "outputs": [
    {
     "name": "stdout",
     "output_type": "stream",
     "text": [
      "X_train size: (43369, 897777)\n",
      "y_train size: (43369,)\n",
      "x_test size: (10843, 897777)\n",
      "y_test size: (10843,)\n"
     ]
    }
   ],
   "source": [
    "print(\"X_train size:\",(x_train.shape))\n",
    "print(\"y_train size:\",(y_train.shape))\n",
    "print(\"x_test size:\",(x_test.shape))\n",
    "print(\"y_test size:\",(y_test.shape))"
   ]
  },
  {
   "cell_type": "markdown",
   "metadata": {},
   "source": [
    "### Performing Logistic Regression"
   ]
  },
  {
   "cell_type": "code",
   "execution_count": 70,
   "metadata": {},
   "outputs": [],
   "source": [
    "logreg = LogisticRegression()\n",
    "logreg.fit(x_train, y_train)\n",
    "logpred = logreg.predict(x_test)\n",
    "logacc = accuracy_score(logpred, y_test)"
   ]
  },
  {
   "cell_type": "code",
   "execution_count": 71,
   "metadata": {},
   "outputs": [
    {
     "name": "stdout",
     "output_type": "stream",
     "text": [
      "Accuracy score:90.53\n"
     ]
    }
   ],
   "source": [
    "print(\"Accuracy score:{:.2f}\".format(logacc*100))"
   ]
  },
  {
   "cell_type": "code",
   "execution_count": 72,
   "metadata": {},
   "outputs": [
    {
     "name": "stdout",
     "output_type": "stream",
     "text": [
      "[[5874  198]\n",
      " [ 829 3942]]\n",
      "\n",
      "\n",
      "              precision    recall  f1-score   support\n",
      "\n",
      "           0       0.88      0.97      0.92      6072\n",
      "           1       0.95      0.83      0.88      4771\n",
      "\n",
      "    accuracy                           0.91     10843\n",
      "   macro avg       0.91      0.90      0.90     10843\n",
      "weighted avg       0.91      0.91      0.90     10843\n",
      "\n"
     ]
    }
   ],
   "source": [
    "print(confusion_matrix(y_test, logpred))\n",
    "print(\"\\n\")\n",
    "print(classification_report(y_test, logpred))"
   ]
  },
  {
   "cell_type": "code",
   "execution_count": 73,
   "metadata": {},
   "outputs": [
    {
     "data": {
      "text/plain": [
       "<sklearn.metrics._plot.confusion_matrix.ConfusionMatrixDisplay at 0x7fae9f164820>"
      ]
     },
     "execution_count": 73,
     "metadata": {},
     "output_type": "execute_result"
    },
    {
     "data": {
      "image/png": "[encoded data removed]",
      "text/plain": [
       "<Figure size 640x480 with 2 Axes>"
      ]
     },
     "metadata": {},
     "output_type": "display_data"
    }
   ],
   "source": [
    "style.use('classic')\n",
    "cm = confusion_matrix(y_test, logpred, labels = logreg.classes_)\n",
    "disp = ConfusionMatrixDisplay(confusion_matrix=cm, display_labels = logreg.classes_)\n",
    "disp.plot()"
   ]
  }
 ],
 "metadata": {
  "kernelspec": {
   "display_name": "Python 3.9.12 ('torch')",
   "language": "python",
   "name": "python3"
  },
  "language_info": {
   "codemirror_mode": {
    "name": "ipython",
    "version": 3
   },
   "file_extension": ".py",
   "mimetype": "text/x-python",
   "name": "python",
   "nbconvert_exporter": "python",
   "pygments_lexer": "ipython3",
   "version": "3.9.12"
  },
  "orig_nbformat": 4,
  "vscode": {
   "interpreter": {
    "hash": "c22573993c29d86015d49e5a8de76837a8b4c8f4a813ce9b1bec164afd2b8c60"
   }
  }
 },
 "nbformat": 4,
 "nbformat_minor": 2
}
